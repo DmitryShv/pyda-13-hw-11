{
 "cells": [
  {
   "cell_type": "markdown",
   "metadata": {},
   "source": [
    "### Задание 11.3\n",
    "Выберите страницу любого сайта с табличными данными. Импортируйте таблицы в pandas dataframe.\n",
    "Примеры страниц (необязательно брать именно эти):\n",
    "https://fortrader.org/quotes\n",
    "https://www.finanz.ru/valyuty/v-realnom-vremeni"
   ]
  },
  {
   "cell_type": "code",
   "execution_count": 1,
   "metadata": {},
   "outputs": [],
   "source": [
    "import pandas as pd"
   ]
  },
  {
   "cell_type": "code",
   "execution_count": 6,
   "metadata": {},
   "outputs": [],
   "source": [
    "# pd.read_html('https://www.finanz.ru/valyuty/v-realnom-vremeni')"
   ]
  },
  {
   "cell_type": "code",
   "execution_count": 21,
   "metadata": {},
   "outputs": [
    {
     "data": {
      "text/html": [
       "<div>\n",
       "<style scoped>\n",
       "    .dataframe tbody tr th:only-of-type {\n",
       "        vertical-align: middle;\n",
       "    }\n",
       "\n",
       "    .dataframe tbody tr th {\n",
       "        vertical-align: top;\n",
       "    }\n",
       "\n",
       "    .dataframe thead th {\n",
       "        text-align: right;\n",
       "    }\n",
       "</style>\n",
       "<table border=\"1\" class=\"dataframe\">\n",
       "  <thead>\n",
       "    <tr style=\"text-align: right;\">\n",
       "      <th></th>\n",
       "      <th>Unnamed: 0</th>\n",
       "      <th>Рубль</th>\n",
       "      <th>Предложение</th>\n",
       "      <th>Спрос</th>\n",
       "      <th>Предыдущее закрытие</th>\n",
       "      <th>%</th>\n",
       "      <th>Абсолютное значение</th>\n",
       "      <th>Время</th>\n",
       "    </tr>\n",
       "  </thead>\n",
       "  <tbody>\n",
       "    <tr>\n",
       "      <th>6</th>\n",
       "      <td>NaN</td>\n",
       "      <td>Евро</td>\n",
       "      <td>Предложение</td>\n",
       "      <td>Спрос</td>\n",
       "      <td>Предыдущее закрытие</td>\n",
       "      <td>%</td>\n",
       "      <td>Абсолютное значение</td>\n",
       "      <td>Время</td>\n",
       "    </tr>\n",
       "    <tr>\n",
       "      <th>7</th>\n",
       "      <td>NaN</td>\n",
       "      <td>EUR/USD</td>\n",
       "      <td>11889</td>\n",
       "      <td>-</td>\n",
       "      <td>11888</td>\n",
       "      <td>0,01 %</td>\n",
       "      <td>00001</td>\n",
       "      <td>15:20:00</td>\n",
       "    </tr>\n",
       "    <tr>\n",
       "      <th>8</th>\n",
       "      <td>NaN</td>\n",
       "      <td>EUR/GBP</td>\n",
       "      <td>09016</td>\n",
       "      <td>-</td>\n",
       "      <td>09032</td>\n",
       "      <td>-0,18 %</td>\n",
       "      <td>-00016</td>\n",
       "      <td>15:20:00</td>\n",
       "    </tr>\n",
       "    <tr>\n",
       "      <th>9</th>\n",
       "      <td>NaN</td>\n",
       "      <td>EUR/JPY</td>\n",
       "      <td>1240795</td>\n",
       "      <td>-</td>\n",
       "      <td>1227100</td>\n",
       "      <td>1,12 %</td>\n",
       "      <td>13695</td>\n",
       "      <td>15:20:00</td>\n",
       "    </tr>\n",
       "    <tr>\n",
       "      <th>10</th>\n",
       "      <td>NaN</td>\n",
       "      <td>EUR/CHF</td>\n",
       "      <td>10719</td>\n",
       "      <td>-</td>\n",
       "      <td>10689</td>\n",
       "      <td>0,28 %</td>\n",
       "      <td>00030</td>\n",
       "      <td>15:20:00</td>\n",
       "    </tr>\n",
       "  </tbody>\n",
       "</table>\n",
       "</div>"
      ],
      "text/plain": [
       "    Unnamed: 0    Рубль  Предложение  Спрос  Предыдущее закрытие        %  \\\n",
       "6          NaN     Евро  Предложение  Спрос  Предыдущее закрытие        %   \n",
       "7          NaN  EUR/USD        11889      -                11888   0,01 %   \n",
       "8          NaN  EUR/GBP        09016      -                09032  -0,18 %   \n",
       "9          NaN  EUR/JPY      1240795      -              1227100   1,12 %   \n",
       "10         NaN  EUR/CHF        10719      -                10689   0,28 %   \n",
       "\n",
       "    Абсолютное значение     Время  \n",
       "6   Абсолютное значение     Время  \n",
       "7                 00001  15:20:00  \n",
       "8                -00016  15:20:00  \n",
       "9                 13695  15:20:00  \n",
       "10                00030  15:20:00  "
      ]
     },
     "execution_count": 21,
     "metadata": {},
     "output_type": "execute_result"
    }
   ],
   "source": [
    "page_url = 'https://www.finanz.ru/valyuty/v-realnom-vremeni'\n",
    "\n",
    "# Импортируем нужную нам страницу в df\n",
    "# attrs = {'class': 'news_table'} ---> указываем какой именно блок нам нужен\n",
    "# encoding='utf-8' ---> указываем кодировку страниц для корректного отображения кириллицы\n",
    "df = pd.read_html(page_url, attrs = {'class': 'quote_list'}, encoding='utf-8')\n",
    "# показываю только Евро, позиция 6-11\n",
    "df[0].iloc[6:11]"
   ]
  }
 ],
 "metadata": {
  "kernelspec": {
   "display_name": "Python 3",
   "language": "python",
   "name": "python3"
  },
  "language_info": {
   "codemirror_mode": {
    "name": "ipython",
    "version": 3
   },
   "file_extension": ".py",
   "mimetype": "text/x-python",
   "name": "python",
   "nbconvert_exporter": "python",
   "pygments_lexer": "ipython3",
   "version": "3.8.3"
  }
 },
 "nbformat": 4,
 "nbformat_minor": 4
}
